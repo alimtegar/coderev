{
 "cells": [
  {
   "attachments": {},
   "cell_type": "markdown",
   "metadata": {},
   "source": [
    "# Libraries and Utils"
   ]
  },
  {
   "cell_type": "code",
   "execution_count": 592,
   "metadata": {},
   "outputs": [],
   "source": [
    "import random\n",
    "import re\n",
    "import utils\n",
    "import json\n",
    "import matplotlib.pyplot as plt\n",
    "import numpy as np\n",
    "\n",
    "\n",
    "def check_tasks(tasks):\n",
    "  prompt = ''\n",
    "  for idx, task_dict in enumerate(tasks):\n",
    "    if 'instances' in task_dict:\n",
    "      (instruction, input, output) = task_dict[\"instruction\"], task_dict[\"instances\"][0][\"input\"], task_dict[\"instances\"][0][\"output\"]\n",
    "    else:\n",
    "      (instruction, input, output) = task_dict[\"instruction\"], task_dict[\"input\"], task_dict[\"output\"]\n",
    "    instruction = re.sub(r\"\\s+\", \" \", instruction).strip().rstrip(\":\")\n",
    "    \n",
    "    input = \"<noinput>\" if input.lower() == \"\" else input\n",
    "    prompt += f\"###\\n\"\n",
    "    prompt += f\"{idx + 1}. Instruction: {instruction}\\n\"\n",
    "    prompt += f\"{idx + 1}. Input:\\n{input}\\n\"\n",
    "    prompt += f\"{idx + 1}. Output:\\n{output}\\n\"\n",
    "  print(prompt)\n",
    "\n",
    "\n",
    "def get_tasks_outputs(tasks):\n",
    "  return [\n",
    "    task_dict[\"instances\"][0][\"output\"] if 'instances' in task_dict else task_dict[\"output\"] \n",
    "    for task_dict in tasks\n",
    "  ]\n",
    "\n",
    "def format_ouput(output):\n",
    "    lines = output.split('\\n')\n",
    "    result = {}\n",
    "\n",
    "    i = 0\n",
    "    while i < len(lines):\n",
    "        line = lines[i].strip()\n",
    "        if line.startswith('-'):\n",
    "            key = line\n",
    "            result[key] = []\n",
    "            i += 1\n",
    "            while i < len(lines) and lines[i].startswith('  -'):\n",
    "                result[key].append(lines[i])\n",
    "                i += 1\n",
    "        else:\n",
    "            i += 1\n",
    "\n",
    "    formatted_result = {}\n",
    "    for key, values in result.items():\n",
    "        formatted_result[key] = values\n",
    "\n",
    "    return formatted_result\n",
    "    \n",
    "def check_tasks_outputs(tasks):\n",
    "    tasks_outputs = get_tasks_outputs(tasks)\n",
    "\n",
    "    for idx, output in enumerate(tasks_outputs):\n",
    "        formatted_output = format_ouput(output)\n",
    "        factors = list(formatted_output.keys())\n",
    "        factors = [s.split('(')[0].strip('- ') for s in factors]\n",
    "        \n",
    "        if factors != ['Readability', 'Uniformity', 'Understandability', 'Correctness', 'Performance', 'Security']:\n",
    "            print(f'Output #{idx+1}')\n",
    "            print('avg_similarity_score\\t>> ', tasks[idx][\"avg_similarity_score\"]) # I use this for unique ID\n",
    "            print('factors\\t\\t\\t>> ', factors)\n",
    "            print()\n",
    "            \n",
    "def filter_tasks(task):\n",
    "  output = task['output']\n",
    "  formatted_output = format_ouput(output)\n",
    "  factors = list(formatted_output.keys())\n",
    "  factors = [s.split('(')[0].strip('- ') for s in factors]\n",
    "  \n",
    "  return factors == ['Readability', 'Uniformity', 'Understandability', 'Correctness', 'Performance', 'Security']"
   ]
  },
  {
   "attachments": {},
   "cell_type": "markdown",
   "metadata": {},
   "source": [
    "# Seed Tasks"
   ]
  },
  {
   "cell_type": "code",
   "execution_count": 660,
   "metadata": {},
   "outputs": [
    {
     "name": "stdout",
     "output_type": "stream",
     "text": [
      "###\n",
      "1. Instruction: Perform a code review on the provided HTML/CSS code file to improve the following factors: Readability, Uniformity, Understandability, Correctness, Performance, and Security.\n",
      "1. Input:\n",
      "```\n",
      "<!DOCTYPE html>\n",
      "<html>\n",
      "<head>\n",
      "    <title>Code Review Example</title>\n",
      "    <style>\n",
      "        body{background-color:#f0f0f0;}\n",
      "        h1{font-size:24px;color:#333;font-family:Arial;}\n",
      "        p{font-size:16px;color:#666;font-family:Arial;}\n",
      "        .container{width:960px;margin:0 auto;}\n",
      "        .header{background-color:#333;color:#fff;padding:20px;}\n",
      "        .content{background-color:#fff;padding:20px;}\n",
      "        .footer{background-color:#333;color:#fff;padding:20px;}\n",
      "    </style>\n",
      "</head>\n",
      "<body>\n",
      "    <div class=\"container\">\n",
      "        <div class=\"header\">\n",
      "            <h1>Code Review Example</h1>\n",
      "        </div>\n",
      "        <div class=\"content\">\n",
      "            <h1>Welcome to my website</h1>\n",
      "            <p>This is an example of a code review.</p>\n",
      "        </div>\n",
      "        <div class=\"footer\">\n",
      "            <p>&copy; 2023 Code Review Example. All rights reserved.</p>\n",
      "        </div>\n",
      "    </div>\n",
      "</body>\n",
      "</html>\n",
      "```\n",
      "1. Output:\n",
      "- Readability (Status: NEGATIVE)\n",
      "  - The lack of comments makes it difficult to understand the purpose and structure of the code. Adding comments to describe different sections or elements would improve readability.\n",
      "- Uniformity (Status: POSITIVE)\n",
      "  - The code follows a consistent naming convention for classes and IDs, using lowercase letters and hyphens to separate words. This promotes uniformity in the codebase.\n",
      "  - The use of consistent spacing around CSS selectors, properties, and values improves uniformity and makes the code easier to read.\n",
      "- Understandability (Status: POSITIVE)\n",
      "  - The structure of the code is clear and easy to understand. The elements are appropriately nested, and the purpose of each section is evident.\n",
      "  - The use of semantic HTML elements (e.g., `<header>`, `<main>`, `<footer>`) enhances the understandability of the code by providing meaning and context.\n",
      "- Correctness (Status: POSITIVE)\n",
      "  - The HTML markup is valid and adheres to the specified document type (HTML5).\n",
      "  - The CSS code follows the correct syntax and selectors, ensuring proper styling of the elements.\n",
      "- Performance (Status: POSITIVE)\n",
      "  - The code doesn't contain any obvious performance issues. However, performance can be further optimized through techniques like minification and bundling of CSS files to reduce file size and improve loading times.\n",
      "- Security (Status: POSITIVE)\n",
      "  - The code doesn't exhibit any security vulnerabilities.\n",
      "###\n",
      "2. Instruction: Perform a code review on the provided JavaScript code file and identify any issues related to readability, uniformity, understandability, correctness, performance, and security.\n",
      "2. Input:\n",
      "```\n",
      "function A(f){\n",
      "    const B = [1,2,3];\n",
      "    const c = B.length;\n",
      "    let D = 0;\n",
      "    for (let i=0;i<c;i++){\n",
      "        D+=B[i];\n",
      "    }\n",
      "    const e=f+D;\n",
      "    return e;\n",
      "}\n",
      "function calculate(x, y){\n",
      "    if(x > 10){\n",
      "        return y * 2;\n",
      "    }\n",
      "    else{\n",
      "        if(y < 5){\n",
      "            return x * y;\n",
      "        }\n",
      "        else{\n",
      "            return x + y;\n",
      "        }\n",
      "    }\n",
      "}\n",
      "function divide(a, b){\n",
      "    if(b !== 0){\n",
      "        return a / b;\n",
      "    }\n",
      "    else{\n",
      "        return \"Error: Division by zero\";\n",
      "    }\n",
      "}\n",
      "function validatePassword(password){\n",
      "    if(password.length < 8){\n",
      "        return false;\n",
      "    }\n",
      "    else{\n",
      "        return true;\n",
      "    }\n",
      "}\n",
      "```\n",
      "2. Output:\n",
      "- Readability (Status: NEGATIVE)\n",
      "  - The code lacks consistent formatting.\n",
      "  - Variable and function names are not descriptive.\n",
      "  - Inconsistent capitalization of function names.\n",
      "- Uniformity (Status: NEGATIVE)\n",
      "  - The code does not follow a consistent naming convention for variables and functions.\n",
      "- Understandability (Status: NEGATIVE)\n",
      "  - NEGATIVEly named variables and functions make it difficult to understand their purpose.\n",
      "  - Lack of comments and documentation makes it challenging to grasp the code's intention.\n",
      "- Correctness (Status: POSITIVE)\n",
      "  - No apparent issues found related to correctness.\n",
      "- Performance (Status: POSITIVE)\n",
      "  - No apparent issues found related to performance.\n",
      "- Security (Status: NEGATIVE)\n",
      "  - The password validation function lacks proper security measures, such as checking for common weak passwords or enforcing additional complexity requirements.\n",
      "###\n",
      "3. Instruction: Perform a code review on the given HTML/CSS code file and provide feedback on the following factors: readability, uniformity, understandability, correctness, performance, and security.\n",
      "3. Input:\n",
      "```\n",
      "<!DOCTYPE html>\n",
      "<html>\n",
      "<head>\n",
      "    <title>Sample Page</title>\n",
      "    <style>\n",
      "        body {\n",
      "            font-family: Arial, sans-serif;\n",
      "            font-size: 14px;\n",
      "            color: #333;\n",
      "        }\n",
      "        \n",
      "        #header {\n",
      "            background-color: #ccc;\n",
      "            padding: 20px;\n",
      "        }\n",
      "        \n",
      "        #content {\n",
      "            margin-top: 50px;\n",
      "            padding: 20px;\n",
      "        }\n",
      "        \n",
      "        .box {\n",
      "            background-color: #f0f0f0;\n",
      "            border: 1px solid #ccc;\n",
      "            padding: 10px;\n",
      "            margin-bottom: 20px;\n",
      "        }\n",
      "        \n",
      "        .box h2 {\n",
      "            font-size: 18px;\n",
      "            margin-bottom: 10px;\n",
      "        }\n",
      "        \n",
      "        .box p {\n",
      "            line-height: 1.5;\n",
      "        }\n",
      "        \n",
      "        .box .button {\n",
      "            background-color: #333;\n",
      "            color: #fff;\n",
      "            padding: 5px 10px;\n",
      "            border-radius: 3px;\n",
      "            text-decoration: none;\n",
      "        }\n",
      "    </style>\n",
      "</head>\n",
      "<body>\n",
      "    <div id=\"header\">\n",
      "        <h1>Sample Page</h1>\n",
      "    </div>\n",
      "    <div id=\"content\">\n",
      "        <div class=\"box\">\n",
      "            <h2>Introduction</h2>\n",
      "            <p>Lorem ipsum dolor sit amet, consectetur adipiscing elit. Donec fringilla placerat pharetra.</p>\n",
      "        </div>\n",
      "        <div class=\"box\">\n",
      "            <h2>About</h2>\n",
      "            <p>Lorem ipsum dolor sit amet, consectetur adipiscing elit. Sed iaculis mollis lorem, in congue orci convallis nec.</p>\n",
      "            <a href=\"#\" class=\"button\">Learn More</a>\n",
      "        </div>\n",
      "    </div>\n",
      "</body>\n",
      "</html>\n",
      "```\n",
      "3. Output:\n",
      "- Readability (Status: NEGATIVE)\n",
      "  - Consider using proper line breaks and spacing between elements for better readability.\n",
      "  - Avoid inline styling and use CSS classes instead for better separation of concerns.\n",
      "- Uniformity (Status: POSITIVE)\n",
      "  - The code demonstrates uniformity in terms of naming conventions and coding style.\n",
      "- Understandability (Status: POSITIVE)\n",
      "  - The code is relatively easy to understand and follow.\n",
      "- Correctness (Status: POSITIVE)\n",
      "  - The code appears to be correct syntactically.\n",
      "- Performance (Status: POSITIVE)\n",
      "  - No performance issues found in the given code.\n",
      "- Security (Status: POSITIVE)\n",
      "  - No security issues found in the given code.\n",
      "\n"
     ]
    }
   ],
   "source": [
    "seed_tasks = utils.jload('seed_tasks.json')\n",
    "seed_tasks = [{\n",
    "  'instruction': task['instruction'],\n",
    "  'input': task['instances'][0]['input'],\n",
    "  'output': task['instances'][0]['output'],\n",
    "} for task in seed_tasks]\n",
    "seed_tasks\n",
    "check_tasks(random.sample(seed_tasks, 3))"
   ]
  },
  {
   "cell_type": "code",
   "execution_count": 663,
   "metadata": {},
   "outputs": [
    {
     "data": {
      "text/html": [
       "<div>\n",
       "<style scoped>\n",
       "    .dataframe tbody tr th:only-of-type {\n",
       "        vertical-align: middle;\n",
       "    }\n",
       "\n",
       "    .dataframe tbody tr th {\n",
       "        vertical-align: top;\n",
       "    }\n",
       "\n",
       "    .dataframe thead th {\n",
       "        text-align: right;\n",
       "    }\n",
       "</style>\n",
       "<table border=\"1\" class=\"dataframe\">\n",
       "  <thead>\n",
       "    <tr style=\"text-align: right;\">\n",
       "      <th></th>\n",
       "      <th>instruction</th>\n",
       "      <th>input</th>\n",
       "      <th>output</th>\n",
       "      <th>positive_count</th>\n",
       "    </tr>\n",
       "  </thead>\n",
       "  <tbody>\n",
       "    <tr>\n",
       "      <th>0</th>\n",
       "      <td>Perform a code review on the given Python code...</td>\n",
       "      <td>```\\ndef Add_numbers(a,b):\\n    Sum=a+b\\n    r...</td>\n",
       "      <td>- Readability (Status: NEGATIVE)\\n  - Function...</td>\n",
       "      <td>3</td>\n",
       "    </tr>\n",
       "    <tr>\n",
       "      <th>1</th>\n",
       "      <td>Perform a code review on the given Python code...</td>\n",
       "      <td>```\\ndef calculate_area(radius):\\n    import m...</td>\n",
       "      <td>- Readability (Status: NEGATIVE)\\n  - Avoid us...</td>\n",
       "      <td>5</td>\n",
       "    </tr>\n",
       "    <tr>\n",
       "      <th>2</th>\n",
       "      <td>Perform a code review on the given Python code...</td>\n",
       "      <td>```\\nimport requests\\ndef get_data(url):\\n    ...</td>\n",
       "      <td>- Readability (Status: NEGATIVE)\\n  - Rename v...</td>\n",
       "      <td>5</td>\n",
       "    </tr>\n",
       "    <tr>\n",
       "      <th>3</th>\n",
       "      <td>Perform a code review on the provided JavaScri...</td>\n",
       "      <td>```\\n// Variables\\nconst MAX_VALUE = 100;\\ncon...</td>\n",
       "      <td>- Readability (Status: POSITIVE)\\n  - Variable...</td>\n",
       "      <td>5</td>\n",
       "    </tr>\n",
       "    <tr>\n",
       "      <th>4</th>\n",
       "      <td>Perform a code review on the provided JavaScri...</td>\n",
       "      <td>```\\nfunction A(f){\\n    const B = [1,2,3];\\n ...</td>\n",
       "      <td>- Readability (Status: NEGATIVE)\\n  - The code...</td>\n",
       "      <td>2</td>\n",
       "    </tr>\n",
       "    <tr>\n",
       "      <th>5</th>\n",
       "      <td>Perform a code review on the provided JavaScri...</td>\n",
       "      <td>```\\nfunction  calculateSum() {\\nlet a = 5; le...</td>\n",
       "      <td>- Readability (Status: NEGATIVE)\\n  - Inconsis...</td>\n",
       "      <td>4</td>\n",
       "    </tr>\n",
       "    <tr>\n",
       "      <th>6</th>\n",
       "      <td>Perform a code review on the given HTML/CSS co...</td>\n",
       "      <td>```\\n&lt;!DOCTYPE html&gt;\\n&lt;html&gt;\\n&lt;head&gt;\\n    &lt;tit...</td>\n",
       "      <td>- Readability (Status: NEGATIVE)\\n  - Consider...</td>\n",
       "      <td>5</td>\n",
       "    </tr>\n",
       "    <tr>\n",
       "      <th>7</th>\n",
       "      <td>Perform a code review on the provided HTML/CSS...</td>\n",
       "      <td>```\\n&lt;!DOCTYPE html&gt;\\n&lt;html&gt;\\n&lt;head&gt;\\n    &lt;tit...</td>\n",
       "      <td>- Readability (Status: NEGATIVE)\\n  - The lack...</td>\n",
       "      <td>5</td>\n",
       "    </tr>\n",
       "    <tr>\n",
       "      <th>8</th>\n",
       "      <td>Perform a code review on the provided HTML/CSS...</td>\n",
       "      <td>```\\n&lt;!DOCTYPE html&gt;\\n&lt;html&gt;\\n&lt;head&gt;\\n&lt;title&gt;M...</td>\n",
       "      <td>- Readability (Status: POSITIVE)\\n  - The code...</td>\n",
       "      <td>6</td>\n",
       "    </tr>\n",
       "  </tbody>\n",
       "</table>\n",
       "</div>"
      ],
      "text/plain": [
       "                                         instruction  \\\n",
       "0  Perform a code review on the given Python code...   \n",
       "1  Perform a code review on the given Python code...   \n",
       "2  Perform a code review on the given Python code...   \n",
       "3  Perform a code review on the provided JavaScri...   \n",
       "4  Perform a code review on the provided JavaScri...   \n",
       "5  Perform a code review on the provided JavaScri...   \n",
       "6  Perform a code review on the given HTML/CSS co...   \n",
       "7  Perform a code review on the provided HTML/CSS...   \n",
       "8  Perform a code review on the provided HTML/CSS...   \n",
       "\n",
       "                                               input  \\\n",
       "0  ```\\ndef Add_numbers(a,b):\\n    Sum=a+b\\n    r...   \n",
       "1  ```\\ndef calculate_area(radius):\\n    import m...   \n",
       "2  ```\\nimport requests\\ndef get_data(url):\\n    ...   \n",
       "3  ```\\n// Variables\\nconst MAX_VALUE = 100;\\ncon...   \n",
       "4  ```\\nfunction A(f){\\n    const B = [1,2,3];\\n ...   \n",
       "5  ```\\nfunction  calculateSum() {\\nlet a = 5; le...   \n",
       "6  ```\\n<!DOCTYPE html>\\n<html>\\n<head>\\n    <tit...   \n",
       "7  ```\\n<!DOCTYPE html>\\n<html>\\n<head>\\n    <tit...   \n",
       "8  ```\\n<!DOCTYPE html>\\n<html>\\n<head>\\n<title>M...   \n",
       "\n",
       "                                              output  positive_count  \n",
       "0  - Readability (Status: NEGATIVE)\\n  - Function...               3  \n",
       "1  - Readability (Status: NEGATIVE)\\n  - Avoid us...               5  \n",
       "2  - Readability (Status: NEGATIVE)\\n  - Rename v...               5  \n",
       "3  - Readability (Status: POSITIVE)\\n  - Variable...               5  \n",
       "4  - Readability (Status: NEGATIVE)\\n  - The code...               2  \n",
       "5  - Readability (Status: NEGATIVE)\\n  - Inconsis...               4  \n",
       "6  - Readability (Status: NEGATIVE)\\n  - Consider...               5  \n",
       "7  - Readability (Status: NEGATIVE)\\n  - The lack...               5  \n",
       "8  - Readability (Status: POSITIVE)\\n  - The code...               6  "
      ]
     },
     "execution_count": 663,
     "metadata": {},
     "output_type": "execute_result"
    }
   ],
   "source": [
    "seed_task_df = pd.DataFrame(seed_tasks)\n",
    "seed_task_df['positive_count'] = seed_task_df['output'].apply(lambda row: row.count('POSITIVE'))\n",
    "seed_task_df"
   ]
  },
  {
   "cell_type": "code",
   "execution_count": 672,
   "metadata": {},
   "outputs": [
    {
     "data": {
      "text/plain": [
       "array([0, 1, 2, 3, 4, 5])"
      ]
     },
     "execution_count": 672,
     "metadata": {},
     "output_type": "execute_result"
    }
   ],
   "source": []
  },
  {
   "cell_type": "code",
   "execution_count": 679,
   "metadata": {},
   "outputs": [
    {
     "data": {
      "image/png": "[encoded data removed]",
      "text/plain": [
       "<Figure size 720x576 with 1 Axes>"
      ]
     },
     "metadata": {
      "needs_background": "light"
     },
     "output_type": "display_data"
    }
   ],
   "source": [
    "plt.figure(figsize=(10, 8)) \n",
    "plt.hist(seed_task_df['positive_count'].values.flatten(), color='blue')\n",
    "plt.xticks(np.arange(0, 6+1, 1))\n",
    "plt.yticks(np.arange(0, 10+1, 1))\n",
    "plt.grid(True)\n",
    "plt.show()"
   ]
  },
  {
   "attachments": {},
   "cell_type": "markdown",
   "metadata": {},
   "source": [
    "# Generated Tasks"
   ]
  },
  {
   "cell_type": "code",
   "execution_count": 594,
   "metadata": {},
   "outputs": [
    {
     "name": "stdout",
     "output_type": "stream",
     "text": [
      "Generated Tasks Length: 1000\n"
     ]
    }
   ],
   "source": [
    "regen_tasks_path = 'regen.json'\n",
    "regen_tasks = utils.jload(regen_tasks_path)\n",
    "print(f'Generated Tasks Length: {len(regen_tasks)}')"
   ]
  },
  {
   "attachments": {},
   "cell_type": "markdown",
   "metadata": {},
   "source": [
    "## Check Tasks Output"
   ]
  },
  {
   "cell_type": "code",
   "execution_count": 595,
   "metadata": {},
   "outputs": [
    {
     "name": "stdout",
     "output_type": "stream",
     "text": [
      "len(regen_tasks) >> 1000\n"
     ]
    }
   ],
   "source": [
    "print('len(regen_tasks) >>', len(regen_tasks))\n",
    "check_tasks_outputs(regen_tasks)"
   ]
  },
  {
   "attachments": {},
   "cell_type": "markdown",
   "metadata": {},
   "source": [
    "## Filter Tasks"
   ]
  },
  {
   "cell_type": "code",
   "execution_count": 596,
   "metadata": {},
   "outputs": [
    {
     "name": "stdout",
     "output_type": "stream",
     "text": [
      "len(filtered_regen_tasks) >> 1000\n"
     ]
    }
   ],
   "source": [
    "filtered_regen_tasks = list(filter(filter_tasks, regen_tasks))\n",
    "\n",
    "print('len(filtered_regen_tasks) >>', len(filtered_regen_tasks))\n",
    "check_tasks_outputs(filtered_regen_tasks)"
   ]
  },
  {
   "cell_type": "code",
   "execution_count": 597,
   "metadata": {},
   "outputs": [
    {
     "name": "stdout",
     "output_type": "stream",
     "text": [
      "regen.json filtered sucessfully.\n"
     ]
    }
   ],
   "source": [
    "with open(regen_tasks_path, 'w') as file:\n",
    "    json.dump(filtered_regen_tasks, file)\n",
    "\n",
    "print(f'{regen_tasks_path} filtered sucessfully.')"
   ]
  },
  {
   "attachments": {},
   "cell_type": "markdown",
   "metadata": {},
   "source": [
    "## Preprocess Tasks for Final Dataset"
   ]
  },
  {
   "cell_type": "code",
   "execution_count": 598,
   "metadata": {},
   "outputs": [
    {
     "name": "stdout",
     "output_type": "stream",
     "text": [
      "[\n",
      "  {\n",
      "    \"instruction\": \"Perform a code review on the provided Python script and provide feedback on the readability, uniformity, understandability, correctness, performance, and security aspects of the code.\",\n",
      "    \"input\": \"```\\n# Python script to check if a number is prime or not\\n\\ndef is_prime(number):\\n    if number < 2:\\n        return False\\n    for i in range(2, number):\\n        if number % i == 0:\\n            return False\\n    return True\\n\\nnum = 17\\n\\nif is_prime(num):\\n    print(f\\\"{num} is a prime number.\\\")\\nelse:\\n    print(f\\\"{num} is not a prime number.\\\")\\n```\",\n",
      "    \"output\": \"- Readability (Status: POSITIVE)\\n  - The code is well-structured and easy to read.\\n  - The use of comments helps in understanding the purpose of the different sections of code.\\n- Uniformity (Status: POSITIVE)\\n  - The code follows consistent indentation and spacing conventions, improving uniformity.\\n- Understandability (Status: POSITIVE)\\n  - The code is simple and straightforward to understand.\\n  - The function name \\\"is_prime\\\" clearly indicates its purpose.\\n- Correctness (Status: POSITIVE)\\n  - The code correctly identifies prime numbers.\\n- Performance (Status: NEGATIVE)\\n  - The code can be optimized by checking for divisibility only up to the square root of the number.\\n- Security (Status: POSITIVE)\\n  - No security issues identified.\"\n",
      "  },\n",
      "  {\n",
      "    \"instruction\": \"Conduct a code review on the provided JavaScript function to improve its readability, uniformity, understandability, correctness, performance, and security.\",\n",
      "    \"input\": \"```javascript\\n// JavaScript function to calculate the factorial of a number\\n\\nfunction factorial(n) {\\n    if (n < 0) {\\n        return \\\"Factorial is not defined for negative numbers.\\\";\\n    }\\n    if (n === 0) {\\n        return 1;\\n    }\\n    let result = 1;\\n    for (let i = 1; i <= n; i++) {\\n        result *= i;\\n    }\\n    return result;\\n}\\n\\nlet number = 5;\\nlet factorialResult = factorial(number);\\nconsole.log(\\\"Factorial of \\\" + number + \\\" is: \\\" + factorialResult);\\n```\",\n",
      "    \"output\": \"- Readability (Status: POSITIVE)\\n  - The code is well-structured and easy to read.\\n  - The use of comments helps in understanding the purpose of the code.\\n- Uniformity (Status: POSITIVE)\\n  - The code follows consistent indentation and spacing conventions, promoting uniformity.\\n- Understandability (Status: POSITIVE)\\n  - The code is simple and straightforward to understand.\\n  - The function name \\\"factorial\\\" clearly indicates its purpose.\\n- Correctness (Status: POSITIVE)\\n  - The code correctly calculates the factorial of a number.\\n- Performance (Status: POSITIVE)\\n  - The code doesn't have any noticeable performance issues.\\n- Security (Status: POSITIVE)\\n  - No security issues identified.\"\n",
      "  },\n",
      "  {\n",
      "    \"instruction\": \"Review the given C++ code and provide feedback on its readability, uniformity, understandability, correctness, performance, and security factors.\",\n",
      "    \"input\": \"```cpp\\n// C++ program to reverse an array\\n#include <iostream>\\nusing namespace std;\\n\\nvoid reverseArray(int arr[], int n)\\n{\\n    for (int i = 0; i < n / 2; i++) {\\n        int temp = arr[i];\\n        arr[i] = arr[n - i - 1];\\n        arr[n - i - 1] = temp;\\n    }\\n}\\n\\nint main()\\n{\\n    int arr[] = {1, 2, 3, 4, 5};\\n    int n = sizeof(arr) / sizeof(arr[0]);\\n\\n    reverseArray(arr, n);\\n\\n    cout << \\\"Reversed Array: \\\";\\n    for (int i = 0; i < n; i++) {\\n        cout << arr[i] << \\\" \\\";\\n    }\\n\\n    return 0;\\n}\\n```\",\n",
      "    \"output\": \"- Readability (Status: POSITIVE)\\n  - The code is written in a readable manner with appropriate indentations and line breaks.\\n  - The use of comments helps in understanding the purpose of the different sections of code.\\n- Uniformity (Status: POSITIVE)\\n  - The code follows consistent spacing and naming conventions.\\n- Understandability (Status: POSITIVE)\\n  - The purpose of the code is clear and easy to understand.\\n- Correctness (Status: POSITIVE)\\n  - The code correctly reverses the elements of the array.\\n- Performance (Status: POSITIVE)\\n  - No performance issues identified.\\n- Security (Status: POSITIVE)\\n  - No security issues identified.\"\n",
      "  }\n",
      "]\n"
     ]
    }
   ],
   "source": [
    "regen_tasks_ = [{k: v for k, v in d.items() if k not in {'most_similar_instructions', 'avg_similarity_score'}} for d in regen_tasks]\n",
    "print(json.dumps(regen_tasks_[:3], indent=2))"
   ]
  },
  {
   "attachments": {},
   "cell_type": "markdown",
   "metadata": {},
   "source": [
    "## Determine Minimum Dataset Size"
   ]
  },
  {
   "cell_type": "code",
   "execution_count": 599,
   "metadata": {},
   "outputs": [
    {
     "data": {
      "text/html": [
       "<div>\n",
       "<style scoped>\n",
       "    .dataframe tbody tr th:only-of-type {\n",
       "        vertical-align: middle;\n",
       "    }\n",
       "\n",
       "    .dataframe tbody tr th {\n",
       "        vertical-align: top;\n",
       "    }\n",
       "\n",
       "    .dataframe thead th {\n",
       "        text-align: right;\n",
       "    }\n",
       "</style>\n",
       "<table border=\"1\" class=\"dataframe\">\n",
       "  <thead>\n",
       "    <tr style=\"text-align: right;\">\n",
       "      <th></th>\n",
       "      <th>instruction</th>\n",
       "      <th>input</th>\n",
       "      <th>output</th>\n",
       "    </tr>\n",
       "  </thead>\n",
       "  <tbody>\n",
       "    <tr>\n",
       "      <th>0</th>\n",
       "      <td>Perform a code review on the provided Python s...</td>\n",
       "      <td>```\\n# Python script to check if a number is p...</td>\n",
       "      <td>- Readability (Status: POSITIVE)\\n  - The code...</td>\n",
       "    </tr>\n",
       "    <tr>\n",
       "      <th>1</th>\n",
       "      <td>Conduct a code review on the provided JavaScri...</td>\n",
       "      <td>```javascript\\n// JavaScript function to calcu...</td>\n",
       "      <td>- Readability (Status: POSITIVE)\\n  - The code...</td>\n",
       "    </tr>\n",
       "    <tr>\n",
       "      <th>2</th>\n",
       "      <td>Review the given C++ code and provide feedback...</td>\n",
       "      <td>```cpp\\n// C++ program to reverse an array\\n#i...</td>\n",
       "      <td>- Readability (Status: POSITIVE)\\n  - The code...</td>\n",
       "    </tr>\n",
       "  </tbody>\n",
       "</table>\n",
       "</div>"
      ],
      "text/plain": [
       "                                         instruction  \\\n",
       "0  Perform a code review on the provided Python s...   \n",
       "1  Conduct a code review on the provided JavaScri...   \n",
       "2  Review the given C++ code and provide feedback...   \n",
       "\n",
       "                                               input  \\\n",
       "0  ```\\n# Python script to check if a number is p...   \n",
       "1  ```javascript\\n// JavaScript function to calcu...   \n",
       "2  ```cpp\\n// C++ program to reverse an array\\n#i...   \n",
       "\n",
       "                                              output  \n",
       "0  - Readability (Status: POSITIVE)\\n  - The code...  \n",
       "1  - Readability (Status: POSITIVE)\\n  - The code...  \n",
       "2  - Readability (Status: POSITIVE)\\n  - The code...  "
      ]
     },
     "execution_count": 599,
     "metadata": {},
     "output_type": "execute_result"
    }
   ],
   "source": [
    "import pandas as pd\n",
    "regen_task_df = pd.DataFrame(regen_tasks_)\n",
    "regen_task_df.head(3)"
   ]
  },
  {
   "cell_type": "code",
   "execution_count": 600,
   "metadata": {},
   "outputs": [
    {
     "name": "stdout",
     "output_type": "stream",
     "text": [
      "Total words: 206524\n",
      "Total data: 1000\n",
      "Words/data: 206\n",
      "\n",
      "Min. total words: 100000\n",
      "\n",
      "Total data needed: -518\n"
     ]
    }
   ],
   "source": [
    "import math\n",
    "\n",
    "\n",
    "word_count_df = regen_task_df.applymap(lambda x: len(str(x).split()))\n",
    "total_words = word_count_df.sum().sum()\n",
    "print('Total words:', total_words)\n",
    "print('Total data:', len(regen_task_df))\n",
    "words_per_data = math.floor(total_words / len(regen_task_df))\n",
    "print('Words/data:', words_per_data)\n",
    "\n",
    "print()\n",
    "min_total_words = 100_000\n",
    "print('Min. total words:', min_total_words)\n",
    "print()\n",
    "\n",
    "total_data_needed = math.floor((min_total_words-total_words) / words_per_data)\n",
    "total_data_needed\n",
    "print(f'Total data needed: {total_data_needed}')"
   ]
  },
  {
   "cell_type": "code",
   "execution_count": 625,
   "metadata": {},
   "outputs": [
    {
     "name": "stdout",
     "output_type": "stream",
     "text": [
      "Below is an instruction that describes a code review, paired with an input that provides further context. Write a response that appropriately completes the request.\n",
      "\n",
      "### Instruction:\n",
      "Perform a code review on the provided Python code file. Identify any issues related to readability, uniformity, understandability, correctness, performance, and security.\n",
      "\n",
      "### Input:\n",
      "```python\n",
      "def calculate_sum(numbers):\n",
      "    \"\"\"\n",
      "    Calculate the sum of a list of numbers.\n",
      "    \"\"\"\n",
      "    sum = 0\n",
      "    for number in numbers:\n",
      "        sum += number\n",
      "    return sum\n",
      "\n",
      "def is_prime(number):\n",
      "    \"\"\"\n",
      "    Check if a number is prime.\n",
      "    \"\"\"\n",
      "    if number <= 1:\n",
      "        return False\n",
      "    for i in range(2, number):\n",
      "        if number % i == 0:\n",
      "            return False\n",
      "    return True\n",
      "\n",
      "def factorial(n):\n",
      "    \"\"\"\n",
      "    Calculate the factorial of a number.\n",
      "    \"\"\"\n",
      "    if n == 0:\n",
      "        return 1\n",
      "    else:\n",
      "        result = 1\n",
      "        for i in range(1, n + 1):\n",
      "            result *= i\n",
      "        return result\n",
      "\n",
      "def encrypt(text, shift):\n",
      "    \"\"\"\n",
      "    Encrypt a string using the Caesar cipher algorithm.\n",
      "    \"\"\"\n",
      "    encrypted_text = \"\"\n",
      "    for char in text:\n",
      "        if char.isalpha():\n",
      "            ascii_value = ord(char)\n",
      "            shifted_ascii_value = (ascii_value - ord('a') + shift) % 26 + ord('a')\n",
      "            encrypted_text += chr(shifted_ascii_value)\n",
      "        else:\n",
      "            encrypted_text += char\n",
      "    return encrypted_text\n",
      "```\n",
      "\n",
      "### Response:\n",
      "- Readability (Status: POSITIVE)\n",
      "  - The code uses clear and descriptive function names, making it easy to understand their purpose.\n",
      "  - The code includes docstrings for each function, providing essential documentation and improving readability.\n",
      "  - The code follows proper indentation and spacing, enhancing readability.\n",
      "- Uniformity (Status: POSITIVE)\n",
      "  - The code consistently uses snake_case for function and variable names, promoting uniformity throughout the codebase.\n",
      "- Understandability (Status: POSITIVE)\n",
      "  - The purpose and behavior of each function are evident from their names and docstrings. It's clear what each function does, enhancing understandability.\n",
      "- Correctness (Status: POSITIVE)\n",
      "  - No apparent issues found related to correctness. The code correctly performs the desired tasks.\n",
      "- Performance (Status: POSITIVE)\n",
      "  - No apparent issues found related to performance. The code efficiently calculates the sum, checks for prime numbers, calculates factorials, and encrypts text.\n",
      "- Security (Status: NEGATIVE)\n",
      "  - The code lacks any specific security measures, such as input validation and sanitization, which may leave it vulnerable to potential security threats. It's recommended to implement appropriate security measures based on the specific use case. \n",
      "\n"
     ]
    }
   ],
   "source": [
    "inst, input, output = list(regen_task_df.iloc[word_count_df.sum(axis=1).idxmax()])[:3]\n",
    "prompt = f'''Below is an instruction that describes a code review, paired with an input that provides further context. Write a response that appropriately completes the request.\n",
    "\n",
    "### Instruction:\n",
    "{inst}\n",
    "\n",
    "### Input:\n",
    "{input}\n",
    "\n",
    "### Response:\n",
    "{output} \n",
    "'''\n",
    "print(prompt)"
   ]
  },
  {
   "attachments": {},
   "cell_type": "markdown",
   "metadata": {},
   "source": [
    "## Analyze Dataset"
   ]
  },
  {
   "cell_type": "code",
   "execution_count": 602,
   "metadata": {},
   "outputs": [
    {
     "data": {
      "image/png": "[encoded data removed]",
      "text/plain": [
       "<Figure size 720x576 with 1 Axes>"
      ]
     },
     "metadata": {
      "needs_background": "light"
     },
     "output_type": "display_data"
    }
   ],
   "source": [
    "plt.figure(figsize=(10, 8))\n",
    "plt.scatter(word_count_df.index, word_count_df.sum(axis=1))\n",
    "plt.grid(True)\n",
    "plt.yticks(np.arange(0, 500+50, 50))\n",
    "plt.show()"
   ]
  },
  {
   "cell_type": "code",
   "execution_count": 603,
   "metadata": {},
   "outputs": [
    {
     "data": {
      "text/html": [
       "<div>\n",
       "<style scoped>\n",
       "    .dataframe tbody tr th:only-of-type {\n",
       "        vertical-align: middle;\n",
       "    }\n",
       "\n",
       "    .dataframe tbody tr th {\n",
       "        vertical-align: top;\n",
       "    }\n",
       "\n",
       "    .dataframe thead th {\n",
       "        text-align: right;\n",
       "    }\n",
       "</style>\n",
       "<table border=\"1\" class=\"dataframe\">\n",
       "  <thead>\n",
       "    <tr style=\"text-align: right;\">\n",
       "      <th></th>\n",
       "      <th>instruction</th>\n",
       "      <th>input</th>\n",
       "      <th>output</th>\n",
       "      <th>positive_count</th>\n",
       "    </tr>\n",
       "  </thead>\n",
       "  <tbody>\n",
       "    <tr>\n",
       "      <th>0</th>\n",
       "      <td>Perform a code review on the provided Python s...</td>\n",
       "      <td>```\\n# Python script to check if a number is p...</td>\n",
       "      <td>- Readability (Status: POSITIVE)\\n  - The code...</td>\n",
       "      <td>5</td>\n",
       "    </tr>\n",
       "    <tr>\n",
       "      <th>1</th>\n",
       "      <td>Conduct a code review on the provided JavaScri...</td>\n",
       "      <td>```javascript\\n// JavaScript function to calcu...</td>\n",
       "      <td>- Readability (Status: POSITIVE)\\n  - The code...</td>\n",
       "      <td>6</td>\n",
       "    </tr>\n",
       "    <tr>\n",
       "      <th>2</th>\n",
       "      <td>Review the given C++ code and provide feedback...</td>\n",
       "      <td>```cpp\\n// C++ program to reverse an array\\n#i...</td>\n",
       "      <td>- Readability (Status: POSITIVE)\\n  - The code...</td>\n",
       "      <td>6</td>\n",
       "    </tr>\n",
       "    <tr>\n",
       "      <th>3</th>\n",
       "      <td>Review the given PHP code and provide feedback...</td>\n",
       "      <td>```php\\n&lt;?php\\n\\n// PHP script to check if a s...</td>\n",
       "      <td>- Readability (Status: POSITIVE)\\n  - The code...</td>\n",
       "      <td>6</td>\n",
       "    </tr>\n",
       "    <tr>\n",
       "      <th>4</th>\n",
       "      <td>Conduct a code review on the given TypeScript ...</td>\n",
       "      <td>```typescript\\n// TypeScript class to represen...</td>\n",
       "      <td>- Readability (Status: POSITIVE)\\n  - The code...</td>\n",
       "      <td>6</td>\n",
       "    </tr>\n",
       "  </tbody>\n",
       "</table>\n",
       "</div>"
      ],
      "text/plain": [
       "                                         instruction  \\\n",
       "0  Perform a code review on the provided Python s...   \n",
       "1  Conduct a code review on the provided JavaScri...   \n",
       "2  Review the given C++ code and provide feedback...   \n",
       "3  Review the given PHP code and provide feedback...   \n",
       "4  Conduct a code review on the given TypeScript ...   \n",
       "\n",
       "                                               input  \\\n",
       "0  ```\\n# Python script to check if a number is p...   \n",
       "1  ```javascript\\n// JavaScript function to calcu...   \n",
       "2  ```cpp\\n// C++ program to reverse an array\\n#i...   \n",
       "3  ```php\\n<?php\\n\\n// PHP script to check if a s...   \n",
       "4  ```typescript\\n// TypeScript class to represen...   \n",
       "\n",
       "                                              output  positive_count  \n",
       "0  - Readability (Status: POSITIVE)\\n  - The code...               5  \n",
       "1  - Readability (Status: POSITIVE)\\n  - The code...               6  \n",
       "2  - Readability (Status: POSITIVE)\\n  - The code...               6  \n",
       "3  - Readability (Status: POSITIVE)\\n  - The code...               6  \n",
       "4  - Readability (Status: POSITIVE)\\n  - The code...               6  "
      ]
     },
     "execution_count": 603,
     "metadata": {},
     "output_type": "execute_result"
    }
   ],
   "source": [
    "regen_task_df['positive_count'] = regen_task_df['output'].apply(lambda row: row.count('POSITIVE'))\n",
    "regen_task_df.head()"
   ]
  },
  {
   "cell_type": "code",
   "execution_count": 604,
   "metadata": {},
   "outputs": [
    {
     "data": {
      "text/plain": [
       "positive_count\n",
       "6                 880\n",
       "5                  81\n",
       "4                  23\n",
       "3                  16\n",
       "dtype: int64"
      ]
     },
     "execution_count": 604,
     "metadata": {},
     "output_type": "execute_result"
    }
   ],
   "source": [
    "regen_task_df[['positive_count']].value_counts()"
   ]
  },
  {
   "cell_type": "code",
   "execution_count": 605,
   "metadata": {},
   "outputs": [
    {
     "data": {
      "image/png": "[encoded data removed]",
      "text/plain": [
       "<Figure size 720x576 with 1 Axes>"
      ]
     },
     "metadata": {
      "needs_background": "light"
     },
     "output_type": "display_data"
    }
   ],
   "source": [
    "plt.figure(figsize=(10, 8)) \n",
    "plt.hist(regen_task_df['positive_count'].values.flatten(), bins=10, alpha=0.7, color='blue')\n",
    "plt.yticks(np.arange(0, 1000+50, 50))\n",
    "plt.grid(True)\n",
    "plt.show()"
   ]
  },
  {
   "cell_type": "code",
   "execution_count": 606,
   "metadata": {},
   "outputs": [
    {
     "data": {
      "text/plain": [
       "201"
      ]
     },
     "execution_count": 606,
     "metadata": {},
     "output_type": "execute_result"
    }
   ],
   "source": [
    "reduced_6_positive_count_data = regen_task_df[regen_task_df['positive_count'] == 6].sample(81)\n",
    "regen_task_df2 = regen_task_df.drop(regen_task_df[regen_task_df['positive_count'] == 6].index)\n",
    "regen_task_df2 = regen_task_df2.append(reduced_6_positive_count_data, ignore_index=True)\n",
    "len(regen_task_df2)"
   ]
  },
  {
   "cell_type": "code",
   "execution_count": 607,
   "metadata": {},
   "outputs": [
    {
     "data": {
      "text/html": [
       "<div>\n",
       "<style scoped>\n",
       "    .dataframe tbody tr th:only-of-type {\n",
       "        vertical-align: middle;\n",
       "    }\n",
       "\n",
       "    .dataframe tbody tr th {\n",
       "        vertical-align: top;\n",
       "    }\n",
       "\n",
       "    .dataframe thead th {\n",
       "        text-align: right;\n",
       "    }\n",
       "</style>\n",
       "<table border=\"1\" class=\"dataframe\">\n",
       "  <thead>\n",
       "    <tr style=\"text-align: right;\">\n",
       "      <th></th>\n",
       "      <th>instruction</th>\n",
       "      <th>input</th>\n",
       "      <th>output</th>\n",
       "      <th>positive_count</th>\n",
       "    </tr>\n",
       "  </thead>\n",
       "  <tbody>\n",
       "    <tr>\n",
       "      <th>0</th>\n",
       "      <td>Perform a code review on the provided Python s...</td>\n",
       "      <td>```\\n# Python script to check if a number is p...</td>\n",
       "      <td>- Readability (Status: POSITIVE)\\n  - The code...</td>\n",
       "      <td>5</td>\n",
       "    </tr>\n",
       "    <tr>\n",
       "      <th>1</th>\n",
       "      <td>Conduct a code review on the provided PHP code...</td>\n",
       "      <td>```php\\n&lt;?php\\n\\nfunction calculateArea($radiu...</td>\n",
       "      <td>- Readability (Status: NEGATIVE)\\n  - Inconsis...</td>\n",
       "      <td>3</td>\n",
       "    </tr>\n",
       "    <tr>\n",
       "      <th>2</th>\n",
       "      <td>Perform a code review on the provided PHP code...</td>\n",
       "      <td>```\\n&lt;?php\\n\\nfunction multiply_numbers($a, $b...</td>\n",
       "      <td>- Readability (Status: NEGATIVE)\\n  - Inconsis...</td>\n",
       "      <td>3</td>\n",
       "    </tr>\n",
       "    <tr>\n",
       "      <th>3</th>\n",
       "      <td>Perform a code review on the provided PHP code...</td>\n",
       "      <td>```php\\n&lt;?php\\n\\nclass Calculator {\\n    priva...</td>\n",
       "      <td>- Readability (Status: POSITIVE)\\n  - Code is ...</td>\n",
       "      <td>5</td>\n",
       "    </tr>\n",
       "    <tr>\n",
       "      <th>4</th>\n",
       "      <td>Perform a code review on the provided Ruby cod...</td>\n",
       "      <td>```ruby\\nclass Calculator\\n    attr_reader :to...</td>\n",
       "      <td>- Readability (Status: POSITIVE)\\n  - Code is ...</td>\n",
       "      <td>5</td>\n",
       "    </tr>\n",
       "  </tbody>\n",
       "</table>\n",
       "</div>"
      ],
      "text/plain": [
       "                                         instruction  \\\n",
       "0  Perform a code review on the provided Python s...   \n",
       "1  Conduct a code review on the provided PHP code...   \n",
       "2  Perform a code review on the provided PHP code...   \n",
       "3  Perform a code review on the provided PHP code...   \n",
       "4  Perform a code review on the provided Ruby cod...   \n",
       "\n",
       "                                               input  \\\n",
       "0  ```\\n# Python script to check if a number is p...   \n",
       "1  ```php\\n<?php\\n\\nfunction calculateArea($radiu...   \n",
       "2  ```\\n<?php\\n\\nfunction multiply_numbers($a, $b...   \n",
       "3  ```php\\n<?php\\n\\nclass Calculator {\\n    priva...   \n",
       "4  ```ruby\\nclass Calculator\\n    attr_reader :to...   \n",
       "\n",
       "                                              output  positive_count  \n",
       "0  - Readability (Status: POSITIVE)\\n  - The code...               5  \n",
       "1  - Readability (Status: NEGATIVE)\\n  - Inconsis...               3  \n",
       "2  - Readability (Status: NEGATIVE)\\n  - Inconsis...               3  \n",
       "3  - Readability (Status: POSITIVE)\\n  - Code is ...               5  \n",
       "4  - Readability (Status: POSITIVE)\\n  - Code is ...               5  "
      ]
     },
     "execution_count": 607,
     "metadata": {},
     "output_type": "execute_result"
    }
   ],
   "source": [
    "regen_task_df2.head()"
   ]
  },
  {
   "cell_type": "code",
   "execution_count": 608,
   "metadata": {},
   "outputs": [],
   "source": [
    "# regen_task_df2[['instruction', 'input', 'output']].to_json('coderev_data_200.json', orient='records', lines=True)"
   ]
  },
  {
   "attachments": {},
   "cell_type": "markdown",
   "metadata": {},
   "source": [
    "## Export Dataset"
   ]
  },
  {
   "cell_type": "code",
   "execution_count": 609,
   "metadata": {},
   "outputs": [],
   "source": [
    "# with open('coderev_data.json', 'w') as f:\n",
    "#     json.dump(regen_tasks_, f)"
   ]
  }
 ],
 "metadata": {
  "kernelspec": {
   "display_name": "py3.9",
   "language": "python",
   "name": "python3"
  },
  "language_info": {
   "codemirror_mode": {
    "name": "ipython",
    "version": 3
   },
   "file_extension": ".py",
   "mimetype": "text/x-python",
   "name": "python",
   "nbconvert_exporter": "python",
   "pygments_lexer": "ipython3",
   "version": "3.9.2"
  },
  "orig_nbformat": 4
 },
 "nbformat": 4,
 "nbformat_minor": 2
}
