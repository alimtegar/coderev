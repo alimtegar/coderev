{
 "cells": [
  {
   "attachments": {},
   "cell_type": "markdown",
   "metadata": {},
   "source": [
    "# Libraries and Utils"
   ]
  },
  {
   "cell_type": "code",
   "execution_count": 163,
   "metadata": {},
   "outputs": [],
   "source": [
    "import random\n",
    "import re\n",
    "import utils\n",
    "import json\n",
    "\n",
    "\n",
    "def check_tasks(tasks):\n",
    "  prompt = ''\n",
    "  for idx, task_dict in enumerate(tasks):\n",
    "    if 'instances' in task_dict:\n",
    "      (instruction, input, output) = task_dict[\"instruction\"], task_dict[\"instances\"][0][\"input\"], task_dict[\"instances\"][0][\"output\"]\n",
    "    else:\n",
    "      (instruction, input, output) = task_dict[\"instruction\"], task_dict[\"input\"], task_dict[\"output\"]\n",
    "    instruction = re.sub(r\"\\s+\", \" \", instruction).strip().rstrip(\":\")\n",
    "    \n",
    "    input = \"<noinput>\" if input.lower() == \"\" else input\n",
    "    prompt += f\"###\\n\"\n",
    "    prompt += f\"{idx + 1}. Instruction: {instruction}\\n\"\n",
    "    prompt += f\"{idx + 1}. Input:\\n{input}\\n\"\n",
    "    prompt += f\"{idx + 1}. Output:\\n{output}\\n\"\n",
    "  print(prompt)\n",
    "\n",
    "\n",
    "def get_tasks_outputs(tasks):\n",
    "  return [\n",
    "    task_dict[\"instances\"][0][\"output\"] if 'instances' in task_dict else task_dict[\"output\"] \n",
    "    for task_dict in tasks\n",
    "  ]\n",
    "\n",
    "def format_ouput(output):\n",
    "    lines = output.split('\\n')\n",
    "    result = {}\n",
    "\n",
    "    i = 0\n",
    "    while i < len(lines):\n",
    "        line = lines[i].strip()\n",
    "        if line.startswith('-'):\n",
    "            key = line\n",
    "            result[key] = []\n",
    "            i += 1\n",
    "            while i < len(lines) and lines[i].startswith('  -'):\n",
    "                result[key].append(lines[i])\n",
    "                i += 1\n",
    "        else:\n",
    "            i += 1\n",
    "\n",
    "    formatted_result = {}\n",
    "    for key, values in result.items():\n",
    "        formatted_result[key] = values\n",
    "\n",
    "    return formatted_result\n",
    "    \n",
    "def check_tasks_outputs(tasks):\n",
    "    tasks_outputs = get_tasks_outputs(tasks)\n",
    "\n",
    "    for idx, output in enumerate(tasks_outputs):\n",
    "        formatted_output = format_ouput(output)\n",
    "        factors = list(formatted_output.keys())\n",
    "        factors = [s.split('(')[0].strip('- ') for s in factors]\n",
    "        \n",
    "        if factors != ['Readability', 'Uniformity', 'Understandability', 'Correctness', 'Performance', 'Security']:\n",
    "            print(f'Output #{idx+1}')\n",
    "            print('avg_similarity_score\\t>> ', tasks[idx][\"avg_similarity_score\"]) # I use this for unique ID\n",
    "            print('factors\\t\\t\\t>> ', factors)\n",
    "            print()\n",
    "            \n",
    "def filter_tasks(task):\n",
    "  output = task['output']\n",
    "  formatted_output = format_ouput(output)\n",
    "  factors = list(formatted_output.keys())\n",
    "  factors = [s.split('(')[0].strip('- ') for s in factors]\n",
    "  \n",
    "  return factors == ['Readability', 'Uniformity', 'Understandability', 'Correctness', 'Performance', 'Security']"
   ]
  },
  {
   "attachments": {},
   "cell_type": "markdown",
   "metadata": {},
   "source": [
    "# Seed Tasks"
   ]
  },
  {
   "cell_type": "code",
   "execution_count": 164,
   "metadata": {},
   "outputs": [
    {
     "name": "stdout",
     "output_type": "stream",
     "text": [
      "###\n",
      "1. Instruction: Perform a code review on the given Python code file and provide feedback on the following factors: readability, uniformity, understandability, correctness, performance, and security.\n",
      "1. Input:\n",
      "```\n",
      "def calculate_area(radius):\n",
      "    import math\n",
      "    # Check if radius is a positive number\n",
      "    if radius <= 0:\n",
      "        return \"Invalid radius. Please provide a positive number.\"\n",
      "    # Calculate the area\n",
      "    area = math.pi * radius ** 2\n",
      "    return area\n",
      "def calculate_circumference(radius):\n",
      "    import math\n",
      "    # Check if radius is a positive number\n",
      "    if radius <= 0:\n",
      "        return \"Invalid radius. Please provide a positive number.\"\n",
      "    # Calculate the circumference\n",
      "    circumference = 2 * math.pi * radius\n",
      "    return circumference\n",
      "radius = float(input(\"Enter the radius: \"))\n",
      "area = calculate_area(radius)\n",
      "print(f\"The area of the circle is: {area}\")\n",
      "circumference = calculate_circumference(radius)\n",
      "print(f\"The circumference of the circle is: {circumference}\")\n",
      "```\n",
      "1. Output:\n",
      "- Readability (Status: NEGATIVE)\n",
      "  - Avoid using import statements inside functions.\n",
      "  - Add docstrings to the functions to explain their purpose and input/output.\n",
      "- Uniformity (Status: POSITIVE)\n",
      "  - No specific issues related to uniformity were found in the code.\n",
      "- Understandability (Status: POSITIVE)\n",
      "  - The code is easy to understand and follows a logical flow.\n",
      "- Correctness (Status: POSITIVE)\n",
      "  - The code correctly calculates the area and circumference of a circle.\n",
      "  - It handles invalid input by checking if the radius is a positive number.\n",
      "- Performance (Status: POSITIVE)\n",
      "  - The code performs the calculations efficiently using the math module.\n",
      "- Security (Status: POSITIVE)\n",
      "  - No security issues were identified in the code.\n",
      "###\n",
      "2. Instruction: Perform a code review on the provided HTML/CSS code file. Evaluate the code based on the following factors: readability, uniformity, understandability, correctness, performance, and security.\n",
      "2. Input:\n",
      "```\n",
      "<!DOCTYPE html>\n",
      "<html>\n",
      "<head>\n",
      "<title>My Website</title>\n",
      "<style>\n",
      "  body {\n",
      "    font-family: Arial, sans-serif;\n",
      "    font-size: 16px;\n",
      "    margin: 0;\n",
      "    padding: 0;\n",
      "  }\n",
      "  h1 {\n",
      "    color: #ff0000;\n",
      "    font-size: 24px;\n",
      "    margin-bottom: 20px;\n",
      "  }\n",
      "  .container {\n",
      "    max-width: 1200px;\n",
      "    margin: 0 auto;\n",
      "    padding: 20px;\n",
      "  }\n",
      "  .text {\n",
      "    font-weight: bold;\n",
      "  }\n",
      "  .btn {\n",
      "    background-color: #007bff;\n",
      "    color: #fff;\n",
      "    padding: 10px 20px;\n",
      "    text-decoration: none;\n",
      "  }\n",
      "  .btn:hover {\n",
      "    background-color: #0056b3;\n",
      "  }\n",
      "</style>\n",
      "</head>\n",
      "<body>\n",
      "  <div class=\"container\">\n",
      "    <h1>Welcome to My Website</h1>\n",
      "    <p class=\"text\">Lorem ipsum dolor sit amet, consectetur adipiscing elit.</p>\n",
      "    <a class=\"btn\" href=\"#\">Learn More</a>\n",
      "  </div>\n",
      "</body>\n",
      "</html>\n",
      "```\n",
      "2. Output:\n",
      "- Readability (Status: POSITIVE)\n",
      "  - The code is well-indented and uses proper spacing and line breaks, making it easy to read and understand.\n",
      "- Uniformity (Status: POSITIVE)\n",
      "  - The code follows a consistent naming convention for classes, using lowercase with hyphens. This improves uniformity and makes the code more manageable.\n",
      "- Understandability (Status: POSITIVE)\n",
      "  - The code uses semantic class names and clear HTML structure, which enhances understandability. The purpose of each element and class is evident, making it easier for developers to comprehend the codebase.\n",
      "- Correctness (Status: POSITIVE)\n",
      "  - The HTML structure is correct, starting with the doctype declaration and using the appropriate opening and closing tags. The CSS selectors are properly applied and target the intended elements.\n",
      "- Performance (Status: POSITIVE)\n",
      "  - The code doesn't contain any noticeable performance issues. However, without further information about the specific performance requirements or potential bottlenecks, it is challenging to make significant performance-related suggestions.\n",
      "- Security (Status: POSITIVE)\n",
      "  - No security issues are apparent in the provided code. However, without additional context about the application's specific security requirements, it's challenging to provide extensive security-related suggestions.\n",
      "###\n",
      "3. Instruction: Perform a code review on the provided JavaScript code file. Evaluate the code based on the factors of readability, uniformity, understandability, correctness, performance, and security.\n",
      "3. Input:\n",
      "```\n",
      "function  calculateSum() {\n",
      "let a = 5; let b = 10; let c = 15;\n",
      "var sum  =  a + b + c;\n",
      "console.log(\"The sum is: \" + sum);\n",
      "}\n",
      "function calculateProduct() {\n",
      "  var a = 5;\n",
      "  var b = 10;\n",
      "  var c = 15;\n",
      "  \n",
      "  var product = a * b * c;\n",
      "  \n",
      "  console.log(\"The product is: \" + product);\n",
      "}\n",
      "function calculateAverage() {\n",
      "  let a = 5;\n",
      "  let b = 10;\n",
      "  let c = 15;\n",
      "  \n",
      "  let average = (a + b + c) / 3;\n",
      "  \n",
      "  console.log(\"The average is: \" + average);\n",
      "}\n",
      "calculateSum();\n",
      "calculateProduct();\n",
      "calculateAverage();\n",
      "```\n",
      "3. Output:\n",
      "- Readability (Status: NEGATIVE)\n",
      "  - Inconsistent use of variable declaration keywords (`let` and `var`).\n",
      "  - Inconsistent placement of semicolons at the end of lines.\n",
      "  - Lack of proper spacing between operators and operands reduces readability.\n",
      "- Uniformity (Status: NEGATIVE)\n",
      "  - The code lacks a consistent coding style throughout, resulting in varying indentation, spacing, and naming conventions.\n",
      "  - Inconsistent use of single and double quotes for string literals.\n",
      "  - Inconsistent use of `let` and `var` for variable declaration.\n",
      "- Understandability (Status: POSITIVE)\n",
      "  - The code is relatively straightforward and easy to understand.\n",
      "- Correctness (Status: POSITIVE)\n",
      "  - The code appears to be correct in terms of syntax and logic.\n",
      "- Performance (Status: POSITIVE)\n",
      "  - No performance-related issues were found in the code.\n",
      "- Security (Status: POSITIVE)\n",
      "  - No security vulnerabilities were found in the code.\n",
      "\n"
     ]
    }
   ],
   "source": [
    "seed_tasks = utils.jload('seed_tasks.json')\n",
    "check_tasks(random.sample(seed_tasks, 3))"
   ]
  },
  {
   "attachments": {},
   "cell_type": "markdown",
   "metadata": {},
   "source": [
    "# Generated Tasks"
   ]
  },
  {
   "cell_type": "code",
   "execution_count": 191,
   "metadata": {},
   "outputs": [
    {
     "name": "stdout",
     "output_type": "stream",
     "text": [
      "Generated Tasks Length: 496\n"
     ]
    }
   ],
   "source": [
    "regen_tasks_path = 'regen.json'\n",
    "regen_tasks = utils.jload(regen_tasks_path)\n",
    "print(f'Generated Tasks Length: {len(regen_tasks)}')"
   ]
  },
  {
   "attachments": {},
   "cell_type": "markdown",
   "metadata": {},
   "source": [
    "## Check Tasks Output"
   ]
  },
  {
   "cell_type": "code",
   "execution_count": 192,
   "metadata": {},
   "outputs": [
    {
     "name": "stdout",
     "output_type": "stream",
     "text": [
      "len(regen_tasks) >> 496\n"
     ]
    }
   ],
   "source": [
    "print('len(regen_tasks) >>', len(regen_tasks))\n",
    "check_tasks_outputs(regen_tasks)"
   ]
  },
  {
   "attachments": {},
   "cell_type": "markdown",
   "metadata": {},
   "source": [
    "## Filter Tasks"
   ]
  },
  {
   "cell_type": "code",
   "execution_count": 193,
   "metadata": {},
   "outputs": [
    {
     "name": "stdout",
     "output_type": "stream",
     "text": [
      "len(filtered_regen_tasks) >> 496\n"
     ]
    }
   ],
   "source": [
    "filtered_regen_tasks = list(filter(filter_tasks, regen_tasks))\n",
    "\n",
    "print('len(filtered_regen_tasks) >>', len(filtered_regen_tasks))\n",
    "check_tasks_outputs(filtered_regen_tasks)"
   ]
  },
  {
   "cell_type": "code",
   "execution_count": 189,
   "metadata": {},
   "outputs": [
    {
     "name": "stdout",
     "output_type": "stream",
     "text": [
      "regen.json filtered sucessfully.\n"
     ]
    }
   ],
   "source": [
    "# with open(regen_tasks_path, 'w') as file:\n",
    "#     json.dump(filtered_regen_tasks, file)\n",
    "\n",
    "# print(f'{regen_tasks_path} filtered sucessfully.')"
   ]
  },
  {
   "attachments": {},
   "cell_type": "markdown",
   "metadata": {},
   "source": [
    "## Preprocess Tasks for Final Dataset"
   ]
  },
  {
   "cell_type": "code",
   "execution_count": 167,
   "metadata": {},
   "outputs": [
    {
     "name": "stdout",
     "output_type": "stream",
     "text": [
      "[\n",
      "  {\n",
      "    \"instruction\": \"Perform a code review on the provided Python script and provide feedback on the readability, uniformity, understandability, correctness, performance, and security aspects of the code.\",\n",
      "    \"input\": \"```\\n# Python script to check if a number is prime or not\\n\\ndef is_prime(number):\\n    if number < 2:\\n        return False\\n    for i in range(2, number):\\n        if number % i == 0:\\n            return False\\n    return True\\n\\nnum = 17\\n\\nif is_prime(num):\\n    print(f\\\"{num} is a prime number.\\\")\\nelse:\\n    print(f\\\"{num} is not a prime number.\\\")\\n```\",\n",
      "    \"output\": \"- Readability (Status: POSITIVE)\\n  - The code is well-structured and easy to read.\\n  - The use of comments helps in understanding the purpose of the different sections of code.\\n- Uniformity (Status: POSITIVE)\\n  - The code follows consistent indentation and spacing conventions, improving uniformity.\\n- Understandability (Status: POSITIVE)\\n  - The code is simple and straightforward to understand.\\n  - The function name \\\"is_prime\\\" clearly indicates its purpose.\\n- Correctness (Status: POSITIVE)\\n  - The code correctly identifies prime numbers.\\n- Performance (Status: NEGATIVE)\\n  - The code can be optimized by checking for divisibility only up to the square root of the number.\\n- Security (Status: POSITIVE)\\n  - No security issues identified.\"\n",
      "  },\n",
      "  {\n",
      "    \"instruction\": \"Conduct a code review on the provided JavaScript function to improve its readability, uniformity, understandability, correctness, performance, and security.\",\n",
      "    \"input\": \"```javascript\\n// JavaScript function to calculate the factorial of a number\\n\\nfunction factorial(n) {\\n    if (n < 0) {\\n        return \\\"Factorial is not defined for negative numbers.\\\";\\n    }\\n    if (n === 0) {\\n        return 1;\\n    }\\n    let result = 1;\\n    for (let i = 1; i <= n; i++) {\\n        result *= i;\\n    }\\n    return result;\\n}\\n\\nlet number = 5;\\nlet factorialResult = factorial(number);\\nconsole.log(\\\"Factorial of \\\" + number + \\\" is: \\\" + factorialResult);\\n```\",\n",
      "    \"output\": \"- Readability (Status: POSITIVE)\\n  - The code is well-structured and easy to read.\\n  - The use of comments helps in understanding the purpose of the code.\\n- Uniformity (Status: POSITIVE)\\n  - The code follows consistent indentation and spacing conventions, promoting uniformity.\\n- Understandability (Status: POSITIVE)\\n  - The code is simple and straightforward to understand.\\n  - The function name \\\"factorial\\\" clearly indicates its purpose.\\n- Correctness (Status: POSITIVE)\\n  - The code correctly calculates the factorial of a number.\\n- Performance (Status: POSITIVE)\\n  - The code doesn't have any noticeable performance issues.\\n- Security (Status: POSITIVE)\\n  - No security issues identified.\"\n",
      "  },\n",
      "  {\n",
      "    \"instruction\": \"Review the given C++ code and provide feedback on its readability, uniformity, understandability, correctness, performance, and security factors.\",\n",
      "    \"input\": \"```cpp\\n// C++ program to reverse an array\\n#include <iostream>\\nusing namespace std;\\n\\nvoid reverseArray(int arr[], int n)\\n{\\n    for (int i = 0; i < n / 2; i++) {\\n        int temp = arr[i];\\n        arr[i] = arr[n - i - 1];\\n        arr[n - i - 1] = temp;\\n    }\\n}\\n\\nint main()\\n{\\n    int arr[] = {1, 2, 3, 4, 5};\\n    int n = sizeof(arr) / sizeof(arr[0]);\\n\\n    reverseArray(arr, n);\\n\\n    cout << \\\"Reversed Array: \\\";\\n    for (int i = 0; i < n; i++) {\\n        cout << arr[i] << \\\" \\\";\\n    }\\n\\n    return 0;\\n}\\n```\",\n",
      "    \"output\": \"- Readability (Status: POSITIVE)\\n  - The code is written in a readable manner with appropriate indentations and line breaks.\\n  - The use of comments helps in understanding the purpose of the different sections of code.\\n- Uniformity (Status: POSITIVE)\\n  - The code follows consistent spacing and naming conventions.\\n- Understandability (Status: POSITIVE)\\n  - The purpose of the code is clear and easy to understand.\\n- Correctness (Status: POSITIVE)\\n  - The code correctly reverses the elements of the array.\\n- Performance (Status: POSITIVE)\\n  - No performance issues identified.\\n- Security (Status: POSITIVE)\\n  - No security issues identified.\"\n",
      "  }\n",
      "]\n"
     ]
    }
   ],
   "source": [
    "regen_tasks_ = [{k: v for k, v in d.items() if k not in {'most_similar_instructions', 'avg_similarity_score'}} for d in regen_tasks]\n",
    "print(json.dumps(regen_tasks_[:3], indent=2))"
   ]
  },
  {
   "attachments": {},
   "cell_type": "markdown",
   "metadata": {},
   "source": [
    "## Determine Min. Dataset Size"
   ]
  },
  {
   "cell_type": "code",
   "execution_count": 168,
   "metadata": {},
   "outputs": [
    {
     "data": {
      "text/html": [
       "<div>\n",
       "<style scoped>\n",
       "    .dataframe tbody tr th:only-of-type {\n",
       "        vertical-align: middle;\n",
       "    }\n",
       "\n",
       "    .dataframe tbody tr th {\n",
       "        vertical-align: top;\n",
       "    }\n",
       "\n",
       "    .dataframe thead th {\n",
       "        text-align: right;\n",
       "    }\n",
       "</style>\n",
       "<table border=\"1\" class=\"dataframe\">\n",
       "  <thead>\n",
       "    <tr style=\"text-align: right;\">\n",
       "      <th></th>\n",
       "      <th>instruction</th>\n",
       "      <th>input</th>\n",
       "      <th>output</th>\n",
       "    </tr>\n",
       "  </thead>\n",
       "  <tbody>\n",
       "    <tr>\n",
       "      <th>0</th>\n",
       "      <td>Perform a code review on the provided Python s...</td>\n",
       "      <td>```\\n# Python script to check if a number is p...</td>\n",
       "      <td>- Readability (Status: POSITIVE)\\n  - The code...</td>\n",
       "    </tr>\n",
       "    <tr>\n",
       "      <th>1</th>\n",
       "      <td>Conduct a code review on the provided JavaScri...</td>\n",
       "      <td>```javascript\\n// JavaScript function to calcu...</td>\n",
       "      <td>- Readability (Status: POSITIVE)\\n  - The code...</td>\n",
       "    </tr>\n",
       "    <tr>\n",
       "      <th>2</th>\n",
       "      <td>Review the given C++ code and provide feedback...</td>\n",
       "      <td>```cpp\\n// C++ program to reverse an array\\n#i...</td>\n",
       "      <td>- Readability (Status: POSITIVE)\\n  - The code...</td>\n",
       "    </tr>\n",
       "  </tbody>\n",
       "</table>\n",
       "</div>"
      ],
      "text/plain": [
       "                                         instruction  \\\n",
       "0  Perform a code review on the provided Python s...   \n",
       "1  Conduct a code review on the provided JavaScri...   \n",
       "2  Review the given C++ code and provide feedback...   \n",
       "\n",
       "                                               input  \\\n",
       "0  ```\\n# Python script to check if a number is p...   \n",
       "1  ```javascript\\n// JavaScript function to calcu...   \n",
       "2  ```cpp\\n// C++ program to reverse an array\\n#i...   \n",
       "\n",
       "                                              output  \n",
       "0  - Readability (Status: POSITIVE)\\n  - The code...  \n",
       "1  - Readability (Status: POSITIVE)\\n  - The code...  \n",
       "2  - Readability (Status: POSITIVE)\\n  - The code...  "
      ]
     },
     "execution_count": 168,
     "metadata": {},
     "output_type": "execute_result"
    }
   ],
   "source": [
    "import pandas as pd\n",
    "task_df = pd.DataFrame(regen_tasks_)\n",
    "task_df.head(3)"
   ]
  },
  {
   "cell_type": "code",
   "execution_count": 169,
   "metadata": {},
   "outputs": [
    {
     "name": "stdout",
     "output_type": "stream",
     "text": [
      "Total words: 106501\n",
      "Total data: 503\n",
      "Words/data: 211\n",
      "\n",
      "Min. total words: 100000\n",
      "\n",
      "Total data needed: -31\n"
     ]
    }
   ],
   "source": [
    "import math\n",
    "\n",
    "word_count_df = task_df.applymap(lambda x: len(str(x).split()))\n",
    "total_words = word_count_df.sum().sum()\n",
    "print('Total words:', total_words)\n",
    "print('Total data:', len(task_df))\n",
    "words_per_data = math.floor(total_words / len(task_df))\n",
    "print('Words/data:', words_per_data)\n",
    "\n",
    "print()\n",
    "min_total_words = 100_000\n",
    "print('Min. total words:', min_total_words)\n",
    "print()\n",
    "\n",
    "n_needed_data = math.floor((min_total_words-total_words) / words_per_data)\n",
    "n_needed_data\n",
    "print(f'Total data needed: {n_needed_data}')"
   ]
  },
  {
   "attachments": {},
   "cell_type": "markdown",
   "metadata": {},
   "source": [
    "## Export Dataset"
   ]
  },
  {
   "cell_type": "code",
   "execution_count": 170,
   "metadata": {},
   "outputs": [],
   "source": [
    "with open('coderev_data.json', 'w') as f:\n",
    "    json.dump(regen_tasks_, f)"
   ]
  }
 ],
 "metadata": {
  "kernelspec": {
   "display_name": "py3.9",
   "language": "python",
   "name": "python3"
  },
  "language_info": {
   "codemirror_mode": {
    "name": "ipython",
    "version": 3
   },
   "file_extension": ".py",
   "mimetype": "text/x-python",
   "name": "python",
   "nbconvert_exporter": "python",
   "pygments_lexer": "ipython3",
   "version": "3.9.2"
  },
  "orig_nbformat": 4
 },
 "nbformat": 4,
 "nbformat_minor": 2
}
